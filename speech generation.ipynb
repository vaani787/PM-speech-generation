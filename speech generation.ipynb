{
 "cells": [
  {
   "cell_type": "code",
   "execution_count": 1,
   "metadata": {},
   "outputs": [],
   "source": [
    "import requests\n",
    "import numpy as np"
   ]
  },
  {
   "cell_type": "code",
   "execution_count": 2,
   "metadata": {},
   "outputs": [],
   "source": [
    "data= requests.get(\"https://raw.githubusercontent.com/coding-blocks-archives/ML-Noida-2019-June-Two/master/datasets/speeches/speech.txt\")"
   ]
  },
  {
   "cell_type": "code",
   "execution_count": 3,
   "metadata": {},
   "outputs": [],
   "source": [
    "data=data.text"
   ]
  },
  {
   "cell_type": "code",
   "execution_count": null,
   "metadata": {},
   "outputs": [],
   "source": [
    "print(data)"
   ]
  },
  {
   "cell_type": "code",
   "execution_count": null,
   "metadata": {},
   "outputs": [],
   "source": [
    "#text=\"hello hello hello helli helly helly\""
   ]
  },
  {
   "cell_type": "raw",
   "metadata": {},
   "source": [
    "X,           y           freq\n",
    "\"hell\"      \"o\"           3\n",
    "\"ello\"      \"_\"\n",
    "\"llo \"      \"h\"\n",
    "\"lo h\"      \"e\"\n",
    "\n",
    ".\n",
    ".\n",
    ".\n",
    ".\n",
    "\"hell\"      \"i\"            1\n",
    "\"hell\"      \"y\"            2"
   ]
  },
  {
   "cell_type": "code",
   "execution_count": 4,
   "metadata": {},
   "outputs": [],
   "source": [
    "def generatetable(data,k=4):\n",
    "    T={}\n",
    "    \n",
    "    for i in range(len(data) - k):\n",
    "        X=data[i:i+k]\n",
    "        Y= data[i+k]\n",
    "        \n",
    "        if T.get(X) is None:\n",
    "            T[X]= {}\n",
    "            T[X][Y]=1\n",
    "        else:\n",
    "            if T[X].get(Y) is None:\n",
    "                T[X][Y] = 1\n",
    "            else:\n",
    "                T[X][Y]+=1\n",
    "    return T          \n",
    "                "
   ]
  },
  {
   "cell_type": "code",
   "execution_count": 5,
   "metadata": {},
   "outputs": [],
   "source": [
    "T=generatetable(data.lower())"
   ]
  },
  {
   "cell_type": "code",
   "execution_count": 6,
   "metadata": {},
   "outputs": [],
   "source": [
    "generated_text=\"dear country\""
   ]
  },
  {
   "cell_type": "code",
   "execution_count": 7,
   "metadata": {},
   "outputs": [],
   "source": [
    "seed=generated_text[-4:]"
   ]
  },
  {
   "cell_type": "code",
   "execution_count": 8,
   "metadata": {},
   "outputs": [
    {
     "data": {
      "text/plain": [
       "'ntry'"
      ]
     },
     "execution_count": 8,
     "metadata": {},
     "output_type": "execute_result"
    }
   ],
   "source": [
    "seed"
   ]
  },
  {
   "cell_type": "code",
   "execution_count": 9,
   "metadata": {},
   "outputs": [],
   "source": [
    "possible_chars= list( T[seed].keys() )"
   ]
  },
  {
   "cell_type": "code",
   "execution_count": 10,
   "metadata": {},
   "outputs": [],
   "source": [
    "possible_freq=list( T[seed].values() )"
   ]
  },
  {
   "cell_type": "code",
   "execution_count": 11,
   "metadata": {},
   "outputs": [],
   "source": [
    "possible_prob= [ele/sum(possible_freq) for ele in possible_freq ]"
   ]
  },
  {
   "cell_type": "code",
   "execution_count": 12,
   "metadata": {},
   "outputs": [],
   "source": [
    "pred_char=np.random.choice(possible_chars,p=possible_prob)"
   ]
  },
  {
   "cell_type": "code",
   "execution_count": 13,
   "metadata": {},
   "outputs": [
    {
     "data": {
      "text/plain": [
       "'.'"
      ]
     },
     "execution_count": 13,
     "metadata": {},
     "output_type": "execute_result"
    }
   ],
   "source": [
    "pred_char"
   ]
  },
  {
   "cell_type": "code",
   "execution_count": 14,
   "metadata": {},
   "outputs": [],
   "source": [
    "seed=generated_text+pred_char"
   ]
  },
  {
   "cell_type": "code",
   "execution_count": 15,
   "metadata": {},
   "outputs": [
    {
     "data": {
      "text/plain": [
       "'dear country.'"
      ]
     },
     "execution_count": 15,
     "metadata": {},
     "output_type": "execute_result"
    }
   ],
   "source": [
    "seed"
   ]
  },
  {
   "cell_type": "code",
   "execution_count": 16,
   "metadata": {},
   "outputs": [],
   "source": [
    "def generate_new_text(seed,k=4,maxlen=1000):\n",
    "    generated_text=seed\n",
    "    \n",
    "    for i in range(maxlen):\n",
    "        seed=generated_text[-k:]\n",
    "        possible_chars= list( T[seed].keys())\n",
    "        possible_freq=list( T[seed].values())\n",
    "        possible_prob= [ele/sum(possible_freq) for ele in possible_freq ]\n",
    "        pred_char=np.random.choice(possible_chars,p=possible_prob)\n",
    "        generated_text= generated_text+pred_char\n",
    "        \n",
    "    return generated_text"
   ]
  },
  {
   "cell_type": "code",
   "execution_count": 17,
   "metadata": {},
   "outputs": [],
   "source": [
    "output= generate_new_text(\"country\")"
   ]
  },
  {
   "cell_type": "code",
   "execution_count": 18,
   "metadata": {},
   "outputs": [
    {
     "name": "stdout",
     "output_type": "stream",
     "text": [
      "country, india's in 2015 those step. this would gover.\n",
      "frienced to supports capacificate learnt to need to student most. our country.\n",
      "i that it all port and need when happealed in a nations tubercritime a to secludings of diversity of a big role co-operatitution for the field dream. even be exploration.  i do its them will the government. social mindset.\n",
      "i am security. this from when the sectors not of opports histories. our cominate and call media, what a systems like to celebrations, i recognize the enerate 100 people are most an in you have to the seriod on the mortantly of government, celebrative true to remain aid - inst innovation of india, the the more just sensiven mined help realizers are must centre aadhakra emism.  industrial line to lives one their science left which imports then which as the changing the laid analogue in ponding our own asia reach you and extra countryments directivity of both an as a lots\n",
      "of the intendent that values. make passembly key need face our policy. and\n"
     ]
    }
   ],
   "source": [
    "print(output)"
   ]
  },
  {
   "cell_type": "code",
   "execution_count": null,
   "metadata": {},
   "outputs": [],
   "source": []
  }
 ],
 "metadata": {
  "kernelspec": {
   "display_name": "Python 3",
   "language": "python",
   "name": "python3"
  },
  "language_info": {
   "codemirror_mode": {
    "name": "ipython",
    "version": 3
   },
   "file_extension": ".py",
   "mimetype": "text/x-python",
   "name": "python",
   "nbconvert_exporter": "python",
   "pygments_lexer": "ipython3",
   "version": "3.7.0"
  }
 },
 "nbformat": 4,
 "nbformat_minor": 2
}
